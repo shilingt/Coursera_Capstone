{
 "cells": [
  {
   "cell_type": "markdown",
   "id": "e1f783f4-a00d-47dc-90e2-38c1079c96a0",
   "metadata": {},
   "source": [
    "## Capstone Project Notebook"
   ]
  },
  {
   "cell_type": "code",
   "execution_count": 3,
   "id": "c63117cb-5288-4743-b809-002a9f52d2c1",
   "metadata": {},
   "outputs": [],
   "source": [
    "import pandas as pd\n",
    "import numpy as np"
   ]
  },
  {
   "cell_type": "code",
   "execution_count": 5,
   "id": "c50d4082-ad06-490c-823a-8ce2c76cbee4",
   "metadata": {},
   "outputs": [
    {
     "name": "stdout",
     "output_type": "stream",
     "text": [
      "Hello Capstone Project Course!\n"
     ]
    }
   ],
   "source": [
    "print('Hello Capstone Project Course!')"
   ]
  },
  {
   "cell_type": "code",
   "execution_count": null,
   "id": "36c73d82-5533-4b06-8b83-be6a25adff80",
   "metadata": {},
   "outputs": [],
   "source": []
  }
 ],
 "metadata": {
  "kernelspec": {
   "display_name": "Python",
   "language": "python",
   "name": "conda-env-python-py"
  },
  "language_info": {
   "codemirror_mode": {
    "name": "ipython",
    "version": 3
   },
   "file_extension": ".py",
   "mimetype": "text/x-python",
   "name": "python",
   "nbconvert_exporter": "python",
   "pygments_lexer": "ipython3",
   "version": "3.6.13"
  }
 },
 "nbformat": 4,
 "nbformat_minor": 5
}
